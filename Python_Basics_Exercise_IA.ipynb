{
 "cells": [
  {
   "cell_type": "markdown",
   "metadata": {
    "id": "jrpTi2Oa0K7y"
   },
   "source": [
    "## Add Two Numbers\n",
    "\n",
    "write a function to adds two numbers and print the output "
   ]
  },
  {
   "cell_type": "code",
   "execution_count": 1,
   "metadata": {},
   "outputs": [
    {
     "name": "stdout",
     "output_type": "stream",
     "text": [
      "32\n"
     ]
    }
   ],
   "source": [
    "x=15\n",
    "y=17\n",
    "add=x+y\n",
    "print (add)"
   ]
  },
  {
   "cell_type": "markdown",
   "metadata": {
    "id": "AiADnX6YO381"
   },
   "source": [
    "## Square root \n",
    "\n",
    "write a function to calculate the square root of a number and print / return the output"
   ]
  },
  {
   "cell_type": "code",
   "execution_count": 2,
   "metadata": {},
   "outputs": [
    {
     "name": "stdout",
     "output_type": "stream",
     "text": [
      "25\n"
     ]
    }
   ],
   "source": [
    "x=5\n",
    "sqrt=5**2\n",
    "print (sqrt)"
   ]
  },
  {
   "cell_type": "markdown",
   "metadata": {
    "id": "Qa2Ut5liO6lG"
   },
   "source": [
    "## The area of triangle\n",
    "\n",
    "write a function to calculate the area of triangle and print / return the output"
   ]
  },
  {
   "cell_type": "code",
   "execution_count": 3,
   "metadata": {},
   "outputs": [
    {
     "name": "stdout",
     "output_type": "stream",
     "text": [
      "150.0\n"
     ]
    }
   ],
   "source": [
    "h=10\n",
    "b=30\n",
    "area=1/2*b*h\n",
    "print (area)"
   ]
  },
  {
   "cell_type": "markdown",
   "metadata": {
    "id": "evLizZPbO6iO"
   },
   "source": [
    "## Solving Quadratic Equation\n",
    "\n",
    "write a function to solve the Quadratic Equation and print / return the output\n",
    "\n",
    "* the Quadratic Equation : d = (b**2) - (4*a*c), you basically fsolve for (d)\n",
    "\n",
    "* you can use library cmath using this command\n",
    "* -> import cmath "
   ]
  },
  {
   "cell_type": "code",
   "execution_count": 6,
   "metadata": {},
   "outputs": [
    {
     "name": "stdout",
     "output_type": "stream",
     "text": [
      "-776\n"
     ]
    }
   ],
   "source": [
    "import cmath\n",
    "a=10\n",
    "b=12\n",
    "c=20\n",
    "d = (b*2) - (4*a*c)\n",
    "print (d)"
   ]
  },
  {
   "cell_type": "markdown",
   "metadata": {
    "id": "aSWvnBfmO6fv"
   },
   "source": [
    "## Convert Kilometers to Miles and vice versa\n",
    "\n",
    "write a function to Convert Kilometers to Miles vice versa and print / return the output"
   ]
  },
  {
   "cell_type": "code",
   "execution_count": 21,
   "metadata": {
    "scrolled": true
   },
   "outputs": [
    {
     "name": "stdout",
     "output_type": "stream",
     "text": [
      "1 kilometers = 0.621 miles\n",
      "1 miles =  1.609 kilometers\n"
     ]
    }
   ],
   "source": [
    "km=1\n",
    "mile=km*0.621\n",
    "print (km,'kilometers =', mile, 'miles')\n",
    "mile=1\n",
    "km=mile*1.609\n",
    "print (mile, 'miles = ', km,'kilometers')"
   ]
  },
  {
   "cell_type": "markdown",
   "metadata": {
    "id": "wt-gpe9zO6cq"
   },
   "source": [
    "## Convert Celsius To Fahrenheit\n",
    "\n",
    "write a function to Convert Celsius To Fahrenheit and print / return the output"
   ]
  },
  {
   "cell_type": "code",
   "execution_count": 22,
   "metadata": {},
   "outputs": [
    {
     "name": "stdout",
     "output_type": "stream",
     "text": [
      "1 Celsius = 33.8 Fahrenheit\n"
     ]
    }
   ],
   "source": [
    "c=1\n",
    "f=c*33.8\n",
    "print (c,'Celsius =', f, 'Fahrenheit')"
   ]
  },
  {
   "cell_type": "markdown",
   "metadata": {
    "id": "LVlWvZnTO6ZW"
   },
   "source": [
    "## Check if a Number is Positive, Negative or 0 using input method \n"
   ]
  },
  {
   "cell_type": "code",
   "execution_count": 27,
   "metadata": {},
   "outputs": [
    {
     "name": "stdout",
     "output_type": "stream",
     "text": [
      "input number: -5\n",
      "False\n",
      "True\n",
      "False\n"
     ]
    }
   ],
   "source": [
    "x=int(input('input number: '))\n",
    "#Number is Positive\n",
    "print (x>0)\n",
    "#Number is Negative\n",
    "print (x<0)\n",
    "#Number is 0\n",
    "print (x==0)"
   ]
  },
  {
   "cell_type": "markdown",
   "metadata": {
    "id": "CoTRY6LUUFce"
   },
   "source": [
    "# IF STATMENT"
   ]
  },
  {
   "cell_type": "markdown",
   "metadata": {
    "id": "LF581pBWO6WH"
   },
   "source": [
    "## Odd or Even\n",
    "\n",
    "us if statement to determine if the input number is odd or even"
   ]
  },
  {
   "cell_type": "code",
   "execution_count": 37,
   "metadata": {},
   "outputs": [
    {
     "name": "stdout",
     "output_type": "stream",
     "text": [
      "input number: 5\n",
      "odd\n"
     ]
    }
   ],
   "source": [
    "x=int(input('input number: '))\n",
    "def even_odd(x):\n",
    "    if (x%2 == 0):\n",
    "        print ('even')\n",
    "    else:\n",
    "        print ('odd')\n",
    "even_odd(x)"
   ]
  },
  {
   "cell_type": "markdown",
   "metadata": {
    "id": "ALPoJHjBO6SI"
   },
   "source": [
    "## Check Leap Year\n",
    "\n",
    "A leap year is exactly divisible by 4 except for century years (years ending with 00). The century year is a leap year only if it is perfectly divisible by 400\n",
    "\n",
    "* check if the year is divisible by 4 \n",
    "* check if the year is a century year, then , check if the year is divisible by 400 "
   ]
  },
  {
   "cell_type": "code",
   "execution_count": 40,
   "metadata": {},
   "outputs": [
    {
     "name": "stdout",
     "output_type": "stream",
     "text": [
      "Enter a year: 2021\n",
      "2021 is not a leap year\n"
     ]
    }
   ],
   "source": [
    "year = int(input(\"Enter a year: \"))  \n",
    "if (year % 4) == 0:  \n",
    "   if (year % 100) == 0:  \n",
    "       if (year % 400) == 0:  \n",
    "           print(\"{0} is a leap year\".format(year))  \n",
    "       else:  \n",
    "           print(\"{0} is not a leap year\".format(year))  \n",
    "   else:  \n",
    "       print(\"{0} is a leap year\".format(year))  \n",
    "else:  \n",
    "   print(\"{0} is not a leap year\".format(year))  "
   ]
  },
  {
   "cell_type": "markdown",
   "metadata": {
    "id": "GAY-JWqyO6Mw"
   },
   "source": [
    "## The Largest Number\n",
    "\n",
    "check the largest number between three different numbers"
   ]
  },
  {
   "cell_type": "code",
   "execution_count": 38,
   "metadata": {},
   "outputs": [
    {
     "name": "stdout",
     "output_type": "stream",
     "text": [
      "largest number is:  20\n"
     ]
    }
   ],
   "source": [
    "listx=[14,17,20]\n",
    "listx.sort()\n",
    "print ('largest number is: ', listx[-1])"
   ]
  },
  {
   "cell_type": "markdown",
   "metadata": {
    "id": "Zn0RSKR6O6D2"
   },
   "source": [
    "## Check Prime Number\n",
    "A positive integer greater than 1 which has no other factors except 1 and the number itself is called a prime number. 2, 3, 5, 7 etc. are prime numbers as they do not have any other factors. But 6 is not prime (it is composite) since, 2 x 3 = 6."
   ]
  },
  {
   "cell_type": "code",
   "execution_count": 48,
   "metadata": {},
   "outputs": [
    {
     "name": "stdout",
     "output_type": "stream",
     "text": [
      "Enter a number: 6\n",
      "6 is not a prime number\n",
      "2 times 3 is 6\n"
     ]
    }
   ],
   "source": [
    "num = int(input(\"Enter a number: \"))  \n",
    "  \n",
    "if num > 1:  \n",
    "   for i in range(2,num):  \n",
    "       if (num % i) == 0:  \n",
    "           print(num,\"is not a prime number\")  \n",
    "           print(i,\"times\",num//i,\"is\",num)  \n",
    "           break  \n",
    "   else:  \n",
    "       print(num,\"is a prime number\")  \n",
    "         \n",
    "else:  \n",
    "   print(num,\"is not a prime number\")  "
   ]
  },
  {
   "cell_type": "markdown",
   "metadata": {
    "id": "Rl5BpgRWWpjk"
   },
   "source": [
    "## Print all Prime Numbers in an Interval"
   ]
  },
  {
   "cell_type": "code",
   "execution_count": 56,
   "metadata": {},
   "outputs": [
    {
     "name": "stdout",
     "output_type": "stream",
     "text": [
      "Prime numbers between 10 and 50 are:\n",
      "11\n",
      "13\n",
      "17\n",
      "19\n",
      "23\n",
      "29\n",
      "31\n",
      "37\n",
      "41\n",
      "43\n",
      "47\n"
     ]
    }
   ],
   "source": [
    "lower = 10\n",
    "upper = 50\n",
    "\n",
    "print(\"Prime numbers between\", lower, \"and\", upper, \"are:\")\n",
    "\n",
    "for num in range(lower, upper + 1):\n",
    "   # all prime numbers are greater than 1\n",
    "   if num > 1:\n",
    "       for i in range(2, num):\n",
    "           if (num % i) == 0:\n",
    "               break\n",
    "       else:\n",
    "           print(num)"
   ]
  },
  {
   "cell_type": "markdown",
   "metadata": {
    "id": "ymkuxyL4Wpdr"
   },
   "source": [
    "## Find the Factorial of a Number\n",
    "\n",
    "The factorial of a number is the product of all the integers from 1 to that number.\n",
    "\n",
    "For example, the factorial of 6 is 1*2*3*4*5*6 = 720. Factorial is not defined for negative numbers, and the factorial of zero is one, 0! = 1."
   ]
  },
  {
   "cell_type": "code",
   "execution_count": 51,
   "metadata": {},
   "outputs": [
    {
     "name": "stdout",
     "output_type": "stream",
     "text": [
      "Enter a number: 6\n",
      "Factorial of 6 is 720\n"
     ]
    }
   ],
   "source": [
    "def factorial(n):\n",
    "    return 1 if (n==1 or n==0) else n * factorial(n - 1);\n",
    "num = int(input(\"Enter a number: \"))  \n",
    "print(\"Factorial of\",num,\"is\",\n",
    "factorial(num))"
   ]
  },
  {
   "cell_type": "markdown",
   "metadata": {
    "id": "ZMYtMjDFWpW7"
   },
   "source": [
    "## Display the multiplication Table of a given number "
   ]
  },
  {
   "cell_type": "code",
   "execution_count": 59,
   "metadata": {},
   "outputs": [
    {
     "name": "stdout",
     "output_type": "stream",
     "text": [
      "9 x 1 = 9\n",
      "9 x 2 = 18\n",
      "9 x 3 = 27\n",
      "9 x 4 = 36\n",
      "9 x 5 = 45\n",
      "9 x 6 = 54\n",
      "9 x 7 = 63\n",
      "9 x 8 = 72\n",
      "9 x 9 = 81\n",
      "9 x 10 = 90\n"
     ]
    }
   ],
   "source": [
    "num = 9\n",
    "for i in range(1, 11):\n",
    "   print(num, 'x', i, '=', num*i)"
   ]
  },
  {
   "cell_type": "markdown",
   "metadata": {
    "id": "p6EbBBXHW3N3"
   },
   "source": [
    "## Check Armstrong Number\n",
    "\n",
    "A positive integer is called an Armstrong number of order n if\n",
    "\n",
    "abcd... = an + bn + cn + dn + ... /n\n",
    "\n",
    "153 = 1*1*1 + 5*5*5 + 3*3*3  // 153 is an Armstrong number."
   ]
  },
  {
   "cell_type": "code",
   "execution_count": 60,
   "metadata": {},
   "outputs": [
    {
     "name": "stdout",
     "output_type": "stream",
     "text": [
      "Enter a number: 5\n",
      "5 is not an Armstrong number\n"
     ]
    }
   ],
   "source": [
    "num = int(input(\"Enter a number: \"))\n",
    "sum = 0\n",
    "temp = num\n",
    "while temp > 0:\n",
    "   digit = temp % 10\n",
    "   sum += digit ** 3\n",
    "   temp //= 10\n",
    "if num == sum:\n",
    "   print(num,\"is an Armstrong number\")\n",
    "else:\n",
    "   print(num,\"is not an Armstrong number\")"
   ]
  },
  {
   "cell_type": "markdown",
   "metadata": {
    "id": "_8_G-aOAW3Lh"
   },
   "source": [
    "## Find the Sum of Natural Numbers\n",
    "\n"
   ]
  },
  {
   "cell_type": "code",
   "execution_count": 62,
   "metadata": {},
   "outputs": [
    {
     "name": "stdout",
     "output_type": "stream",
     "text": [
      "The sum is 55\n"
     ]
    }
   ],
   "source": [
    "num = 10\n",
    "\n",
    "if num < 0:\n",
    "   print(\"Enter a positive number\")\n",
    "else:\n",
    "   sum = 0\n",
    "   while(num > 0):\n",
    "       sum += num\n",
    "       num -= 1\n",
    "   print(\"The sum is\", sum)\n"
   ]
  }
 ],
 "metadata": {
  "colab": {
   "collapsed_sections": [],
   "name": "Python Basics Exercise.ipynb",
   "private_outputs": true,
   "provenance": [],
   "toc_visible": true
  },
  "kernelspec": {
   "display_name": "Python 3 (ipykernel)",
   "language": "python",
   "name": "python3"
  },
  "language_info": {
   "codemirror_mode": {
    "name": "ipython",
    "version": 3
   },
   "file_extension": ".py",
   "mimetype": "text/x-python",
   "name": "python",
   "nbconvert_exporter": "python",
   "pygments_lexer": "ipython3",
   "version": "3.9.5"
  }
 },
 "nbformat": 4,
 "nbformat_minor": 1
}
